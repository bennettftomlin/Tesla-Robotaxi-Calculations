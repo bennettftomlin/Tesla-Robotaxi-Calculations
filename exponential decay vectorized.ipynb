{
 "cells": [
  {
   "cell_type": "code",
   "execution_count": null,
   "metadata": {},
   "outputs": [],
   "source": [
    "import warnings\n",
    "warnings.simplefilter(action='ignore', category=FutureWarning)\n",
    "import pandas as pd\n",
    "import numpy as np\n",
    "from copy import deepcopy as copy\n",
    "import matplotlib as plt"
   ]
  },
  {
   "cell_type": "code",
   "execution_count": null,
   "metadata": {},
   "outputs": [],
   "source": [
    "# initial cost for a tesla, currently $39k in real life, Elon promised $25k by 2022\n",
    "cost_for_tesla = 39_000\n",
    "# how many miles each car can operate for before being de-commisioned\n",
    "tesla_longevity_miles = 350_000\n",
    "# how many miles the car is operational each month 7,500 in Tesla slides\n",
    "tesla_miles_per_month = 7_500\n",
    "number_of_months = 20 * 12\n",
    "# 0.65 in Tesla slides\n",
    "profit_per_mile = 0.65\n",
    "# 0.5 in Tesla slides\n",
    "occupied_miles = 0.5\n",
    "# change in profit each year\n",
    "profit_decay_coefficient = 0.95\n",
    "# change in rate of profit decay\n",
    "profit_decay_decay_exponent = 0.95\n",
    "# change in tesla price each year\n",
    "tesla_price_increase_coefficient = 0.03\n",
    "# what order of magnitude steps up operational costs (if set to 10 will do 10, 100, 1000, etc...)\n",
    "magnitude_adjustment_original = 10\n",
    "current_magnitude_adjustment = magnitude_adjustment_original\n",
    "# change in each tesla cost when next order of magnitude is hit (simulates operational costs for business doing acquiring)\n",
    "magnitude_step_change = 0.01"
   ]
  },
  {
   "cell_type": "code",
   "execution_count": null,
   "metadata": {},
   "outputs": [],
   "source": [
    "\n",
    "number_of_teslas = 1\n",
    "cash = 0 - (number_of_teslas*cost_for_tesla)\n",
    "remaining_miles = []\n",
    "cash\n"
   ]
  },
  {
   "cell_type": "code",
   "execution_count": null,
   "metadata": {},
   "outputs": [],
   "source": [
    "total_car_lifespan_months = tesla_longevity_miles//tesla_miles_per_month\n",
    "last_month_miles = tesla_longevity_miles - (total_car_lifespan_months * tesla_miles_per_month)\n",
    "last_month_miles\n"
   ]
  },
  {
   "cell_type": "code",
   "execution_count": null,
   "metadata": {},
   "outputs": [],
   "source": [
    "car_lifespan_months_dict = {}\n",
    "car_lifespan_months_dict[str((total_car_lifespan_months))] = number_of_teslas"
   ]
  },
  {
   "cell_type": "code",
   "execution_count": null,
   "metadata": {},
   "outputs": [],
   "source": []
  },
  {
   "cell_type": "code",
   "execution_count": null,
   "metadata": {},
   "outputs": [],
   "source": []
  },
  {
   "cell_type": "code",
   "execution_count": null,
   "metadata": {},
   "outputs": [],
   "source": []
  },
  {
   "cell_type": "code",
   "execution_count": null,
   "metadata": {},
   "outputs": [],
   "source": [
    "# currently represents total revenue, comment out this line and uncomment the line below to make it only money made afer debt is paid\n",
    "total_money_earned = 0\n",
    "# total_money_earned = cash\n",
    "df= pd.DataFrame(columns=[\"Month\", \"Number of Teslas Owned\", \"Total Money Earned\", \"Cash\"])\n",
    "for x in range(0, number_of_months):\n",
    "    print(x)\n",
    "    # annual adjustment\n",
    "    if x/12 == x//12 and x>0:\n",
    "        profit_per_mile = profit_per_mile * profit_decay_coefficient\n",
    "        profit_decay_coefficient = profit_decay_coefficient**profit_decay_decay_exponent\n",
    "        print(f\"Profit per mile has fallen to {profit_per_mile}\")\n",
    "        cost_for_tesla = cost_for_tesla * (1 + tesla_price_increase_coefficient)\n",
    "        print(f\"Cost per Tesla has risen to {cost_for_tesla}\")\n",
    "    money_earned_month = 0\n",
    "    for key, value in car_lifespan_months_dict.items():\n",
    "        if key == \"0\":\n",
    "            money_earned_month = money_earned_month + (last_month_miles * profit_per_mile * occupied_miles * value)\n",
    "        else:\n",
    "            money_earned_month = money_earned_month + (tesla_miles_per_month * profit_per_mile * occupied_miles * value)\n",
    "    for a in range(0, total_car_lifespan_months + 1):\n",
    "        car_lifespan_months_dict[str(a)] = car_lifespan_months_dict.get(str((a+1)), 0)\n",
    "    total_money_earned = total_money_earned + money_earned_month\n",
    "    cash = cash + money_earned_month\n",
    "    if cash>=cost_for_tesla:\n",
    "        number_of_teslas_to_buy = int(cash//cost_for_tesla)\n",
    "        # print(f\"Number of Teslas to buy: {number_of_teslas_to_buy}\")\n",
    "        cash = cash - (number_of_teslas_to_buy*cost_for_tesla)\n",
    "        car_lifespan_months_dict[str((total_car_lifespan_months))] = number_of_teslas_to_buy\n",
    "    while sum(car_lifespan_months_dict.values()) >= current_magnitude_adjustment:\n",
    "        cost_for_tesla = cost_for_tesla * (1 + magnitude_step_change)\n",
    "        current_magnitude_adjustment = current_magnitude_adjustment * magnitude_adjustment_original\n",
    "        print(f\"You now have over {current_magnitude_adjustment/magnitude_adjustment_original} cars and the cost per Tesla has risen to {cost_for_tesla}\")\n",
    "    dictionary = {\n",
    "        \"Month\": int(x+1),\n",
    "        \"Number of Teslas Owned\": int(sum(car_lifespan_months_dict.values())),\n",
    "        \"Current Profit Per Mile\": profit_per_mile,\n",
    "        \"Current Tesla Cost\": cost_for_tesla,\n",
    "        \"Total Money Earned\": total_money_earned,\n",
    "        \"Cash\": cash\n",
    "    }\n",
    "    df = df.append(dictionary, ignore_index=True)\n",
    "df"
   ]
  },
  {
   "attachments": {},
   "cell_type": "markdown",
   "metadata": {},
   "source": [
    "df.plot(y=['Total Money Earned', '', x=\"Month\")"
   ]
  },
  {
   "cell_type": "code",
   "execution_count": null,
   "metadata": {},
   "outputs": [],
   "source": [
    "df.plot(y=['Total Money Earned', 'Number of Teslas Owned', \"Current Profit Per Mile\", \"Current Tesla Cost\"], x=\"Month\", subplots=True, sharex=True)"
   ]
  },
  {
   "cell_type": "code",
   "execution_count": null,
   "metadata": {},
   "outputs": [],
   "source": []
  },
  {
   "attachments": {},
   "cell_type": "markdown",
   "metadata": {},
   "source": [
    "df.plot(y='', x=\"Month\")"
   ]
  },
  {
   "cell_type": "code",
   "execution_count": null,
   "metadata": {},
   "outputs": [],
   "source": []
  },
  {
   "cell_type": "code",
   "execution_count": null,
   "metadata": {},
   "outputs": [],
   "source": []
  },
  {
   "cell_type": "code",
   "execution_count": null,
   "metadata": {},
   "outputs": [],
   "source": []
  },
  {
   "cell_type": "code",
   "execution_count": null,
   "metadata": {},
   "outputs": [],
   "source": [
    "# df.to_csv('robotaxi_analysis_twitter_vector.csv', index=False)"
   ]
  },
  {
   "cell_type": "code",
   "execution_count": null,
   "metadata": {},
   "outputs": [],
   "source": []
  },
  {
   "cell_type": "code",
   "execution_count": null,
   "metadata": {},
   "outputs": [],
   "source": []
  }
 ],
 "metadata": {
  "kernelspec": {
   "display_name": "Python 3",
   "language": "python",
   "name": "python3"
  },
  "language_info": {
   "codemirror_mode": {
    "name": "ipython",
    "version": 3
   },
   "file_extension": ".py",
   "mimetype": "text/x-python",
   "name": "python",
   "nbconvert_exporter": "python",
   "pygments_lexer": "ipython3",
   "version": "3.10.6"
  },
  "orig_nbformat": 4
 },
 "nbformat": 4,
 "nbformat_minor": 2
}
