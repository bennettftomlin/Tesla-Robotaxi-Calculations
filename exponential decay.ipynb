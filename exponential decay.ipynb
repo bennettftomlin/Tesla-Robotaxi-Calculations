{
 "cells": [
  {
   "cell_type": "code",
   "execution_count": null,
   "metadata": {},
   "outputs": [],
   "source": [
    "import warnings\n",
    "warnings.simplefilter(action='ignore', category=FutureWarning)\n",
    "import pandas as pd\n",
    "import numpy as np\n",
    "from copy import deepcopy as copy"
   ]
  },
  {
   "cell_type": "code",
   "execution_count": null,
   "metadata": {},
   "outputs": [],
   "source": [
    "# initial cost for a tesla, currently $39k in real life, Elon promised $25k by 2022\n",
    "cost_for_tesla = 39_000\n",
    "# how many miles each car can operate for before being de-commisioned\n",
    "tesla_longevity_miles = 1_000_000\n",
    "# how many miles the car is operational each month 7,500 in Tesla slides\n",
    "tesla_miles_per_month = 7_500\n",
    "number_of_months = 20 * 12\n",
    "# 0.65 in Tesla slides\n",
    "profit_per_mile = 0.65\n",
    "# 0.5 in Tesla slides\n",
    "occupied_miles = 0.5\n",
    "# change in profit each year\n",
    "profit_decay_coefficient = 0.95\n",
    "# change in tesla price each year\n",
    "tesla_price_increase_coefficient = 0.03\n",
    "# what order of magnitude steps up operational costs (if set to 10 will do 10, 100, 1000, etc...)\n",
    "magnitude_adjustment_original = 10\n",
    "current_magnitude_adjustment = magnitude_adjustment_original\n",
    "# change in each tesla cost when next order of magnitude is hit\n",
    "magnitude_step_change = 0.05"
   ]
  },
  {
   "cell_type": "code",
   "execution_count": null,
   "metadata": {},
   "outputs": [],
   "source": [
    "\n",
    "number_of_teslas = 1\n",
    "cash = 0 - (number_of_teslas*cost_for_tesla)\n",
    "remaining_miles = []\n",
    "cash\n"
   ]
  },
  {
   "cell_type": "code",
   "execution_count": null,
   "metadata": {},
   "outputs": [],
   "source": [
    "for x in range(0, number_of_teslas):\n",
    "    remaining_miles.append(tesla_longevity_miles)\n",
    "remaining_miles"
   ]
  },
  {
   "cell_type": "code",
   "execution_count": null,
   "metadata": {},
   "outputs": [],
   "source": []
  },
  {
   "cell_type": "code",
   "execution_count": null,
   "metadata": {},
   "outputs": [],
   "source": []
  },
  {
   "cell_type": "code",
   "execution_count": null,
   "metadata": {},
   "outputs": [],
   "source": [
    "# currently represents total revenue, comment out this line and uncomment the line below to make it only money made afer debt is paid\n",
    "total_money_earned = 0\n",
    "# total_money_earned = cash\n",
    "df= pd.DataFrame(columns=[\"Month\", \"Number of Teslas Owned\", \"Operational Miles Remaining\", \"Total Money Earned\", \"Cash\"])\n",
    "for x in range(0, number_of_months):\n",
    "    print(x)\n",
    "    # annual adjustment\n",
    "    if x/12 == x//12:\n",
    "        profit_per_mile = profit_per_mile * profit_decay_coefficient\n",
    "        cost_for_tesla = cost_for_tesla * (1 + tesla_price_increase_coefficient)\n",
    "    money_earned_month = 0\n",
    "    new_remaining = []\n",
    "    for y in remaining_miles:\n",
    "        if y>= tesla_miles_per_month:\n",
    "            money_earned_month = money_earned_month + (occupied_miles * profit_per_mile*tesla_miles_per_month)\n",
    "            remaining_miles = y- tesla_miles_per_month\n",
    "            if remaining_miles>0:\n",
    "                new_remaining.append(remaining_miles)\n",
    "        else:\n",
    "            money_earned_month = money_earned_month + (occupied_miles * profit_per_mile * y)\n",
    "    total_money_earned = total_money_earned + money_earned_month\n",
    "    cash = cash + money_earned_month\n",
    "    if cash>=cost_for_tesla:\n",
    "        number_of_teslas_to_buy = int(cash//cost_for_tesla)\n",
    "        # print(f\"Number of Teslas to buy: {number_of_teslas_to_buy}\")\n",
    "        cash = cash - number_of_teslas_to_buy*cost_for_tesla\n",
    "        for z in range(0, number_of_teslas_to_buy):\n",
    "            new_remaining.append(tesla_longevity_miles)\n",
    "    remaining_miles = copy(new_remaining)\n",
    "    if len(remaining_miles) >= current_magnitude_adjustment:\n",
    "        cost_for_tesla = cost_for_tesla * (1 + magnitude_step_change)\n",
    "        current_magnitude_adjustment = current_magnitude_adjustment * magnitude_adjustment_original\n",
    "    dictionary = {\n",
    "        \"Month\": x+1,\n",
    "        \"Number of Teslas Owned\": len(remaining_miles),\n",
    "        \"Operational Miles Remaining\": sum(remaining_miles),\n",
    "        \"Total Money Earned\": total_money_earned,\n",
    "        \"Cash\": cash\n",
    "    }\n",
    "    df = df.append(dictionary, ignore_index=True)\n",
    "df"
   ]
  },
  {
   "cell_type": "code",
   "execution_count": null,
   "metadata": {},
   "outputs": [],
   "source": [
    "df.to_csv('robotaxi_analysis_39k_decay.csv', index=False)"
   ]
  },
  {
   "cell_type": "code",
   "execution_count": null,
   "metadata": {},
   "outputs": [],
   "source": []
  },
  {
   "cell_type": "code",
   "execution_count": null,
   "metadata": {},
   "outputs": [],
   "source": []
  }
 ],
 "metadata": {
  "kernelspec": {
   "display_name": "Python 3",
   "language": "python",
   "name": "python3"
  },
  "language_info": {
   "codemirror_mode": {
    "name": "ipython",
    "version": 3
   },
   "file_extension": ".py",
   "mimetype": "text/x-python",
   "name": "python",
   "nbconvert_exporter": "python",
   "pygments_lexer": "ipython3",
   "version": "3.10.6"
  },
  "orig_nbformat": 4
 },
 "nbformat": 4,
 "nbformat_minor": 2
}
